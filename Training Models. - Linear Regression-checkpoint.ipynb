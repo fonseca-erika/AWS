{
 "cells": [
  {
   "cell_type": "markdown",
   "metadata": {},
   "source": [
    "<h1>Linear Regression</h1>\n",
    "<h2>Framework</h2>\n",
    "Y : is a numeric response variable<br>\n",
    "X<sup>(1)</sup>,...,X<sup>(p)</sup> : <i>p</i> numeric explanatory variables (also called features)\n",
    "\n",
    "<b><font color = \"blue\">If</font></b> we can assume that the relationship between Y and X is linear, like the one represented by the graphic below:\n",
    "<img src=\"https://upload.wikimedia.org/wikipedia/commons/thumb/3/3a/Linear_regression.svg/220px-Linear_regression.svg.png\">\n",
    "\n",
    "<b><font color = \"blue\">Then: </font></b> we assume that we can represent it by a model:\n",
    "<img src=\"https://wikimedia.org/api/rest_v1/media/math/render/svg/704b31aa61dfc93d672f15bf02aa6d168be49643\">\n",
    "\n",
    "Writing this equation in a <b><font color = \"orange\">matrix notation</font></b> we have:\n",
    "\n",
    "<img src=\"https://wikimedia.org/api/rest_v1/media/math/render/svg/8119b3ed1259aa8ff15166488548104b50a0f92e\">\n",
    "\n",
    "<i>Source: </i> Wikipedia\n",
    "\n",
    "Where:<br>\n",
    "${n}$ is the number of observations on the dataset<br>\n",
    "${p}$ is the number of explanatory variables<br>\n",
    "${y}$ is a vector of the response variable. This is a vector of ${n}$ rows.<br>\n",
    "${X}$ is a matrix of the explanatory variables, where the columns represent the features and the lines represent the observations. We can also imagine it as a matrix of vectors, where each line ${(i)}$ is a vector of the features that explain the ${y_i}$. Considering that in a linear model we have an interception the first column is filled with ones, representing that this value is taken into account with factor 1 to explain the response variable.This is a matrix of ${n}$ rows and <b>{p+1}</b> columns.<br>\n",
    "${β}$ is a vector of the coefficients of the model, this is what makes the model linear, because this values are fixed for all the observations. This is a vector of ${(p+1)}$ columns.<br>\n",
    "${\\boldsymbol {\\varepsilon }}$ is the noise, and represents the values that cannot be captured simply by the linear model. This is a vector of ${n}$ rows<br>"
   ]
  },
  {
   "cell_type": "markdown",
   "metadata": {},
   "source": [
    "<h2>Linear Model</h2>\n",
    "\n",
    "In a linear model we try to define the parameters that will infer in the minimum error between the prediction of the model for all datapoints and the actual value presented on the dataset. One of the methods used for this is the least-squared criterion:\n",
    "\n",
    "So we define an equation that is:\n",
    "\n",
    "${S(β)=\\sum_{i=1}^{n} (y_i-βX_i)^2 = \\lVert{Y-βX}\\rVert^2}$\n",
    "\n",
    "${β}$ can assumes many values, but we are interest in the vector that will have the smallest error. So we are interested in ${\\hatβ}$ that is the solution that minimizes the error:\n",
    "\n",
    "${S(\\hatβ)=min_{(β\\in \\mathbf{R}^{(p+1)})}\\sum_{i=1}^{n} (y_i-βX_i)^2 = \\lVert{Y-βX}\\rVert^2}$\n",
    "\n",
    "The solution for this minimization problem is:\n",
    "\n",
    "${\\hatβ=(^tXX)^{-1}(^tX)Y}$"
   ]
  },
  {
   "cell_type": "markdown",
   "metadata": {},
   "source": [
    "<h3>Assumptions</h3>\n",
    "<p><b><font color = \"blue\">Homoscedasticity: <font></b> by this we consider that the model has a constant variance throughout its domain. This concept is important because the linear regression model gives the same weight to all observations. \n",
    "\n",
    "<img src=\"https://miro.medium.com/max/3326/1*Jan9oVOzNqQyhA4bSg_zwA.png\"></p>\n",
    "<i>Source: </i> Assumptions Of Linear Regression Algorithm by Gomathi tamilselvam"
   ]
  },
  {
   "cell_type": "markdown",
   "metadata": {},
   "source": [
    "<p><b><font color = \"blue\">Fixed design: <font></b> The points (or vectors) X1, . . . , Xn are deterministic, in other words they are not random variables. If you are not in a fixed design you need to treat X as a probabilistic model.\n",
    "    \n",
    "<p><b><font color = \"blue\">Independence of the noise: <font></b> It means that the errors of the response variable are uncorrelated with each other. "
   ]
  },
  {
   "cell_type": "markdown",
   "metadata": {},
   "source": [
    "<h2>Working on data</h2>"
   ]
  },
  {
   "cell_type": "markdown",
   "metadata": {},
   "source": [
    "<h3><font color = \"blue\">Scenario I: Gaussian noise $\\mathcal{N}(0,1)$</font></h3>\n",
    "<hr>\n",
    "<h4>I.a) Building a Dataset </h4>"
   ]
  },
  {
   "cell_type": "code",
   "execution_count": 28,
   "metadata": {
    "scrolled": true
   },
   "outputs": [
    {
     "data": {
      "image/png": "[encoded data removed]",
      "text/plain": [
       "<Figure size 432x288 with 1 Axes>"
      ]
     },
     "metadata": {
      "needs_background": "light"
     },
     "output_type": "display_data"
    },
    {
     "name": "stdout",
     "output_type": "stream",
     "text": [
      "mean: 0.06223398933818885\n",
      "variance: 1.0449250484828947\n"
     ]
    }
   ],
   "source": [
    "import numpy as np\n",
    "import matplotlib.pyplot as plt\n",
    "X = 2 * np.random.rand(100, 1)\n",
    "noise = np.random.randn(100, 1)\n",
    "plt.axvline(x=0, color = \"blue\")\n",
    "plt.hist(x=noise, bins='auto', color='orange')\n",
    "plt.title(\"Noise distribution\")\n",
    "plt.show()\n",
    "print(\"mean: \"+str(np.mean(noise)))\n",
    "print(\"variance: \" +str(np.var(noise)))\n",
    "\n"
   ]
  },
  {
   "cell_type": "code",
   "execution_count": 29,
   "metadata": {},
   "outputs": [
    {
     "data": {
      "image/png": "[encoded data removed]",
      "text/plain": [
       "<Figure size 432x288 with 1 Axes>"
      ]
     },
     "metadata": {
      "needs_background": "light"
     },
     "output_type": "display_data"
    }
   ],
   "source": [
    "y = 4 + 3 * X + noise\n",
    "plt.scatter(X,y)\n",
    "plt.show()"
   ]
  },
  {
   "cell_type": "markdown",
   "metadata": {},
   "source": [
    "<h4>I.b) Modeling </h4>\n",
    "There are many ways to solve the minimization problem of the least-squared method:\n",
    "\n",
    "<h5><b><font color = \"orange\">1) Using the normal equation</font></b></h5>\n",
    "${\\hatβ=(^tXX)^{-1}(^tX)Y}$"
   ]
  },
  {
   "cell_type": "code",
   "execution_count": 30,
   "metadata": {},
   "outputs": [
    {
     "data": {
      "text/html": [
       "<style  type=\"text/css\" >\n",
       "</style><table id=\"T_eac596b0_33ba_11ea_ac61_3c2c30d4000a\" ><thead>    <tr>        <th class=\"col_heading level0 col0\" >Solution using</th>        <th class=\"col_heading level0 col1\" >Intercept</th>        <th class=\"col_heading level0 col2\" >Coefficient</th>    </tr></thead><tbody>\n",
       "                <tr>\n",
       "                                <td id=\"T_eac596b0_33ba_11ea_ac61_3c2c30d4000arow0_col0\" class=\"data row0 col0\" >Book sample</td>\n",
       "                        <td id=\"T_eac596b0_33ba_11ea_ac61_3c2c30d4000arow0_col1\" class=\"data row0 col1\" >[4.38713125]</td>\n",
       "                        <td id=\"T_eac596b0_33ba_11ea_ac61_3c2c30d4000arow0_col2\" class=\"data row0 col2\" >[2.67849177]</td>\n",
       "            </tr>\n",
       "            <tr>\n",
       "                                <td id=\"T_eac596b0_33ba_11ea_ac61_3c2c30d4000arow1_col0\" class=\"data row1 col0\" >Equation with dot function</td>\n",
       "                        <td id=\"T_eac596b0_33ba_11ea_ac61_3c2c30d4000arow1_col1\" class=\"data row1 col1\" >[4.38713125]</td>\n",
       "                        <td id=\"T_eac596b0_33ba_11ea_ac61_3c2c30d4000arow1_col2\" class=\"data row1 col2\" >[2.67849177]</td>\n",
       "            </tr>\n",
       "            <tr>\n",
       "                                <td id=\"T_eac596b0_33ba_11ea_ac61_3c2c30d4000arow2_col0\" class=\"data row2 col0\" >Equation with matmul function</td>\n",
       "                        <td id=\"T_eac596b0_33ba_11ea_ac61_3c2c30d4000arow2_col1\" class=\"data row2 col1\" >[4.38713125]</td>\n",
       "                        <td id=\"T_eac596b0_33ba_11ea_ac61_3c2c30d4000arow2_col2\" class=\"data row2 col2\" >[2.67849177]</td>\n",
       "            </tr>\n",
       "    </tbody></table>"
      ],
      "text/plain": [
       "<pandas.io.formats.style.Styler at 0x1fa08bdb2e8>"
      ]
     },
     "execution_count": 30,
     "metadata": {},
     "output_type": "execute_result"
    }
   ],
   "source": [
    "X_b = np.c_[np.ones((100, 1)), X] # add x0 = 1 to each instance\n",
    "theta_best = np.linalg.inv(X_b.T.dot(X_b)).dot(X_b.T).dot(y)\n",
    "\n",
    "X_matrix = np.c_[np.ones((100, 1)), X]\n",
    "tXX_inv=np.linalg.inv(np.dot(X_matrix.T,X_matrix))\n",
    "beta_hat = np.dot(np.dot(tXX_inv,X_matrix.T),y)\n",
    "\n",
    "X_matrix = np.c_[np.ones((100, 1)), X]\n",
    "tXX_inv=np.linalg.inv(np.matmul(X_matrix.T,X_matrix))\n",
    "beta_hat2 = np.matmul(np.matmul(tXX_inv,X_matrix.T),y)\n",
    "\n",
    "df=pd.DataFrame({'Solution using':['Book sample', 'Equation with dot function', 'Equation with matmul function'], \n",
    "                    'Intercept':[theta_best[0], beta_hat[0], beta_hat2[0]], \n",
    "                    'Coefficient':[theta_best[1], beta_hat[1], beta_hat2[1]]})\n",
    "df.style.hide_index()"
   ]
  },
  {
   "cell_type": "markdown",
   "metadata": {},
   "source": [
    "<h5><b><font color = \"orange\">2. Using Scikit-learn</font></b></h5>\n",
    "Using the Linear Regression method from Scikit-learn"
   ]
  },
  {
   "cell_type": "code",
   "execution_count": 31,
   "metadata": {},
   "outputs": [
    {
     "data": {
      "text/html": [
       "<div>\n",
       "<style scoped>\n",
       "    .dataframe tbody tr th:only-of-type {\n",
       "        vertical-align: middle;\n",
       "    }\n",
       "\n",
       "    .dataframe tbody tr th {\n",
       "        vertical-align: top;\n",
       "    }\n",
       "\n",
       "    .dataframe thead th {\n",
       "        text-align: right;\n",
       "    }\n",
       "</style>\n",
       "<table border=\"1\" class=\"dataframe\">\n",
       "  <thead>\n",
       "    <tr style=\"text-align: right;\">\n",
       "      <th></th>\n",
       "      <th>Value</th>\n",
       "    </tr>\n",
       "  </thead>\n",
       "  <tbody>\n",
       "    <tr>\n",
       "      <th>intercept</th>\n",
       "      <td>4.38713</td>\n",
       "    </tr>\n",
       "    <tr>\n",
       "      <th>coefficient</th>\n",
       "      <td>[2.6784917652037796]</td>\n",
       "    </tr>\n",
       "  </tbody>\n",
       "</table>\n",
       "</div>"
      ],
      "text/plain": [
       "                            Value\n",
       "intercept                 4.38713\n",
       "coefficient  [2.6784917652037796]"
      ]
     },
     "execution_count": 31,
     "metadata": {},
     "output_type": "execute_result"
    }
   ],
   "source": [
    "from sklearn.linear_model import LinearRegression\n",
    "lin_reg = LinearRegression()\n",
    "model=lin_reg.fit(X, y)\n",
    "pd.DataFrame([lin_reg.intercept_, lin_reg.coef_], ['intercept','coefficient'], columns=[\"Value\"])"
   ]
  },
  {
   "cell_type": "markdown",
   "metadata": {},
   "source": [
    "<b>Measuring the quality of the model</b>"
   ]
  },
  {
   "cell_type": "code",
   "execution_count": 32,
   "metadata": {},
   "outputs": [
    {
     "name": "stdout",
     "output_type": "stream",
     "text": [
      "coefficient of determination: 0.6932560438790119\n"
     ]
    },
    {
     "data": {
      "image/png": "[encoded data removed]",
      "text/plain": [
       "<Figure size 432x288 with 1 Axes>"
      ]
     },
     "metadata": {
      "needs_background": "light"
     },
     "output_type": "display_data"
    },
    {
     "data": {
      "image/png": "[encoded data removed]",
      "text/plain": [
       "<Figure size 432x288 with 1 Axes>"
      ]
     },
     "metadata": {
      "needs_background": "light"
     },
     "output_type": "display_data"
    },
    {
     "name": "stdout",
     "output_type": "stream",
     "text": [
      "RMSE for simple linear regression:  1.005968405113056\n"
     ]
    }
   ],
   "source": [
    "y_pred = model.predict(X)\n",
    "r_sq = model.score(X, y)\n",
    "print('coefficient of determination:', r_sq)\n",
    "error= y_pred-y\n",
    "plt.hist(error)\n",
    "plt.show()\n",
    "plt.plot(X,y_pred,color=\"orange\")\n",
    "plt.scatter(X,y)\n",
    "plt.show()\n",
    "\n",
    "from sklearn.metrics import mean_squared_error\n",
    "lin_mse = mean_squared_error(y, y_pred)\n",
    "print(\"RMSE for simple linear regression: \",str(np.sqrt(lin_mse)))\n"
   ]
  },
  {
   "cell_type": "markdown",
   "metadata": {},
   "source": [
    "<i><font color = \"blue\">Remark: </font><i/>\n",
    "The LinearRegression class is based on the scipy.linalg.lstsq() function (the name stands for “least squares”), so we obtain the same result using directly using:"
   ]
  },
  {
   "cell_type": "code",
   "execution_count": 33,
   "metadata": {},
   "outputs": [
    {
     "data": {
      "text/html": [
       "<div>\n",
       "<style scoped>\n",
       "    .dataframe tbody tr th:only-of-type {\n",
       "        vertical-align: middle;\n",
       "    }\n",
       "\n",
       "    .dataframe tbody tr th {\n",
       "        vertical-align: top;\n",
       "    }\n",
       "\n",
       "    .dataframe thead th {\n",
       "        text-align: right;\n",
       "    }\n",
       "</style>\n",
       "<table border=\"1\" class=\"dataframe\">\n",
       "  <thead>\n",
       "    <tr style=\"text-align: right;\">\n",
       "      <th></th>\n",
       "      <th>Value</th>\n",
       "    </tr>\n",
       "  </thead>\n",
       "  <tbody>\n",
       "    <tr>\n",
       "      <th>intercept</th>\n",
       "      <td>4.387131</td>\n",
       "    </tr>\n",
       "    <tr>\n",
       "      <th>coefficient</th>\n",
       "      <td>2.678492</td>\n",
       "    </tr>\n",
       "  </tbody>\n",
       "</table>\n",
       "</div>"
      ],
      "text/plain": [
       "                Value\n",
       "intercept    4.387131\n",
       "coefficient  2.678492"
      ]
     },
     "execution_count": 33,
     "metadata": {},
     "output_type": "execute_result"
    }
   ],
   "source": [
    "theta_best_svd, residuals, rank, s = np.linalg.lstsq(X_b, y, rcond=1e-6)\n",
    "theta_best_svd\n",
    "pd.DataFrame(theta_best_svd, ['intercept','coefficient'], columns=[\"Value\"])"
   ]
  },
  {
   "cell_type": "markdown",
   "metadata": {},
   "source": [
    "<h5><b><font color = \"orange\">3. Using the pseudoinverse</font></b></h5>\n",
    "\n",
    "This function computes $θ = X^+y$, where $X^+$ is the pseudoinverse of X (specifically the Moore-Penrose inverse). You can use np.linalg.pinv() to compute the pseudoinverse directly:"
   ]
  },
  {
   "cell_type": "code",
   "execution_count": 34,
   "metadata": {},
   "outputs": [
    {
     "data": {
      "text/html": [
       "<div>\n",
       "<style scoped>\n",
       "    .dataframe tbody tr th:only-of-type {\n",
       "        vertical-align: middle;\n",
       "    }\n",
       "\n",
       "    .dataframe tbody tr th {\n",
       "        vertical-align: top;\n",
       "    }\n",
       "\n",
       "    .dataframe thead th {\n",
       "        text-align: right;\n",
       "    }\n",
       "</style>\n",
       "<table border=\"1\" class=\"dataframe\">\n",
       "  <thead>\n",
       "    <tr style=\"text-align: right;\">\n",
       "      <th></th>\n",
       "      <th>Value</th>\n",
       "    </tr>\n",
       "  </thead>\n",
       "  <tbody>\n",
       "    <tr>\n",
       "      <th>intercept</th>\n",
       "      <td>4.387131</td>\n",
       "    </tr>\n",
       "    <tr>\n",
       "      <th>coefficient</th>\n",
       "      <td>2.678492</td>\n",
       "    </tr>\n",
       "  </tbody>\n",
       "</table>\n",
       "</div>"
      ],
      "text/plain": [
       "                Value\n",
       "intercept    4.387131\n",
       "coefficient  2.678492"
      ]
     },
     "execution_count": 34,
     "metadata": {},
     "output_type": "execute_result"
    }
   ],
   "source": [
    "sol=np.linalg.pinv(X_b).dot(y)\n",
    "pd.DataFrame(sol, ['intercept','coefficient'], columns=[\"Value\"])"
   ]
  },
  {
   "cell_type": "markdown",
   "metadata": {},
   "source": [
    "The pseudoinverse itself is computed using a standard matrix factorization technique called Singular Value Decomposition (SVD) that can decompose the training set matrix $X$ into the matrix multiplication of three matrices $U Σ VT$ (see\n",
    "numpy.linalg.svd()). The pseudoinverse is computed as $X+ = VΣ+UT$. To the matrix $Σ+$, the algorithm takes $Σ$ and sets to zero all values smaller than a tiny threshold value, then it replaces all the non-zero values with their inverse, and finally it transposes the resulting matrix. This approach is more efficient than computing the Normal Equation, plus it handles edge cases nicely: indeed, the Normal Equation may not work if the matrix $XTX$ is not invertible (i.e., singular), such as if m < n or if some features are redundant, but the pseudoinverse is always defined."
   ]
  },
  {
   "cell_type": "markdown",
   "metadata": {},
   "source": [
    "<h5><b><font color = \"orange\">4. Using linear algebra</font></b></h5>\n",
    "\n",
    "We can understand that our problem is of type: $Ax=b$, applying this to our set we would rewrite it as:\n",
    "$Xβ = y$\n",
    "So we can look for the linear independent rows of matrix X, in order to reduce our number of rows to compute. The next step would be finding β that is:\n",
    "\n",
    "$β = X^{-1}y$"
   ]
  },
  {
   "cell_type": "code",
   "execution_count": 35,
   "metadata": {},
   "outputs": [
    {
     "data": {
      "text/html": [
       "<div>\n",
       "<style scoped>\n",
       "    .dataframe tbody tr th:only-of-type {\n",
       "        vertical-align: middle;\n",
       "    }\n",
       "\n",
       "    .dataframe tbody tr th {\n",
       "        vertical-align: top;\n",
       "    }\n",
       "\n",
       "    .dataframe thead th {\n",
       "        text-align: right;\n",
       "    }\n",
       "</style>\n",
       "<table border=\"1\" class=\"dataframe\">\n",
       "  <thead>\n",
       "    <tr style=\"text-align: right;\">\n",
       "      <th></th>\n",
       "      <th>Value</th>\n",
       "    </tr>\n",
       "  </thead>\n",
       "  <tbody>\n",
       "    <tr>\n",
       "      <th>intercept</th>\n",
       "      <td>4.387131</td>\n",
       "    </tr>\n",
       "    <tr>\n",
       "      <th>coefficient</th>\n",
       "      <td>2.678492</td>\n",
       "    </tr>\n",
       "  </tbody>\n",
       "</table>\n",
       "</div>"
      ],
      "text/plain": [
       "                Value\n",
       "intercept    4.387131\n",
       "coefficient  2.678492"
      ]
     },
     "execution_count": 35,
     "metadata": {},
     "output_type": "execute_result"
    }
   ],
   "source": [
    "q, r =np.linalg.qr(X_matrix) \n",
    "# If A = qr such that q is orthonormal (which is always possible via Gram-Schmidt) then x = inv(r) * (q.T) * b\n",
    "#r - reduced: linearly independent rows\n",
    "#q - matrix of orthonormal columns\n",
    "p = np.dot(q.T, y)\n",
    "sol_la=np.dot(np.linalg.inv(r), p)\n",
    "pd.DataFrame(sol_la, ['intercept','coefficient'], columns=[\"Value\"])"
   ]
  },
  {
   "cell_type": "markdown",
   "metadata": {},
   "source": [
    "<h4>I.c) Predicting </h4>"
   ]
  },
  {
   "cell_type": "code",
   "execution_count": 36,
   "metadata": {},
   "outputs": [
    {
     "data": {
      "text/plain": [
       "array([[4.38713125],\n",
       "       [9.74411478]])"
      ]
     },
     "execution_count": 36,
     "metadata": {},
     "output_type": "execute_result"
    }
   ],
   "source": [
    "X_new = np.array([[0], [2]])\n",
    "X_new_b = np.c_[np.ones((2, 1)), X_new] # add x0 = 1 to each instance\n",
    "y_predict = X_new_b.dot(theta_best)\n",
    "y_predict"
   ]
  },
  {
   "cell_type": "code",
   "execution_count": 37,
   "metadata": {},
   "outputs": [
    {
     "data": {
      "image/png": "[encoded data removed]",
      "text/plain": [
       "<Figure size 432x288 with 1 Axes>"
      ]
     },
     "metadata": {
      "needs_background": "light"
     },
     "output_type": "display_data"
    }
   ],
   "source": [
    "plt.plot(X_new, y_predict, \"r-\")\n",
    "plt.plot(X, y, \"b.\")\n",
    "plt.axis([0, 2, 0, 15])\n",
    "plt.show()"
   ]
  },
  {
   "cell_type": "code",
   "execution_count": 38,
   "metadata": {},
   "outputs": [
    {
     "data": {
      "text/plain": [
       "array([[4.38713125],\n",
       "       [9.74411478]])"
      ]
     },
     "execution_count": 38,
     "metadata": {},
     "output_type": "execute_result"
    }
   ],
   "source": [
    "lin_reg.predict(X_new)"
   ]
  },
  {
   "cell_type": "code",
   "execution_count": 39,
   "metadata": {},
   "outputs": [
    {
     "name": "stdout",
     "output_type": "stream",
     "text": [
      "The value predicted for 1.5 is:  [[8.4048689]] and the actual value is:  8.5\n"
     ]
    }
   ],
   "source": [
    "print(\"The value predicted for 1.5 is: \",model.predict([[1.5]]), \"and the actual value is: \", 4 + 3 * 1.5)"
   ]
  },
  {
   "cell_type": "markdown",
   "metadata": {},
   "source": [
    "<hr>"
   ]
  },
  {
   "cell_type": "markdown",
   "metadata": {},
   "source": [
    "<h3><font color = \"blue\">Scenario II: Gaussian noise  $\\mathcal{N}(\\mu=1,\\sigma^2=2)$</font></h3>\n",
    "<hr>"
   ]
  },
  {
   "cell_type": "code",
   "execution_count": 40,
   "metadata": {
    "scrolled": true
   },
   "outputs": [
    {
     "data": {
      "image/png": "[encoded data removed]",
      "text/plain": [
       "<Figure size 432x288 with 1 Axes>"
      ]
     },
     "metadata": {
      "needs_background": "light"
     },
     "output_type": "display_data"
    },
    {
     "name": "stdout",
     "output_type": "stream",
     "text": [
      "mean: 1.371847502226791\n",
      "variance: 1.9473653591293387\n"
     ]
    }
   ],
   "source": [
    "import numpy as np\n",
    "import matplotlib.pyplot as plt\n",
    "X = 2 * np.random.rand(100, 1)\n",
    "noise = np.random.normal(loc=1, scale=np.sqrt(2), size=100)\n",
    "noise=np.reshape(noise,(100,1))\n",
    "plt.axvline(x=1, color = \"orange\")\n",
    "plt.hist(x=noise, bins='auto')\n",
    "plt.title(\"Noise distribution\")\n",
    "plt.show()\n",
    "print(\"mean: \"+str(np.mean(noise)))\n",
    "print(\"variance: \" +str(np.var(noise)))"
   ]
  },
  {
   "cell_type": "code",
   "execution_count": 41,
   "metadata": {},
   "outputs": [
    {
     "data": {
      "image/png": "[encoded data removed]",
      "text/plain": [
       "<Figure size 432x288 with 1 Axes>"
      ]
     },
     "metadata": {
      "needs_background": "light"
     },
     "output_type": "display_data"
    }
   ],
   "source": [
    "y = 4 + 3 * X + noise\n",
    "\n",
    "plt.scatter(X, y)\n",
    "plt.show()"
   ]
  },
  {
   "cell_type": "markdown",
   "metadata": {},
   "source": [
    "<h5><b><font color = \"orange\">Solving the minimization problem:</font></b></h5>"
   ]
  },
  {
   "cell_type": "code",
   "execution_count": 42,
   "metadata": {},
   "outputs": [
    {
     "data": {
      "text/html": [
       "<div>\n",
       "<style scoped>\n",
       "    .dataframe tbody tr th:only-of-type {\n",
       "        vertical-align: middle;\n",
       "    }\n",
       "\n",
       "    .dataframe tbody tr th {\n",
       "        vertical-align: top;\n",
       "    }\n",
       "\n",
       "    .dataframe thead th {\n",
       "        text-align: right;\n",
       "    }\n",
       "</style>\n",
       "<table border=\"1\" class=\"dataframe\">\n",
       "  <thead>\n",
       "    <tr style=\"text-align: right;\">\n",
       "      <th></th>\n",
       "      <th>Value</th>\n",
       "    </tr>\n",
       "  </thead>\n",
       "  <tbody>\n",
       "    <tr>\n",
       "      <th>intercept</th>\n",
       "      <td>5.222445</td>\n",
       "    </tr>\n",
       "    <tr>\n",
       "      <th>coefficient</th>\n",
       "      <td>3.158221</td>\n",
       "    </tr>\n",
       "  </tbody>\n",
       "</table>\n",
       "</div>"
      ],
      "text/plain": [
       "                Value\n",
       "intercept    5.222445\n",
       "coefficient  3.158221"
      ]
     },
     "execution_count": 42,
     "metadata": {},
     "output_type": "execute_result"
    }
   ],
   "source": [
    "X_b = np.c_[np.ones((100, 1)), X] # add x0 = 1 to each instance\n",
    "theta_best = np.linalg.inv(X_b.T.dot(X_b)).dot(X_b.T).dot(y)\n",
    "\n",
    "pd.DataFrame(theta_best, ['intercept','coefficient'], columns=[\"Value\"])"
   ]
  },
  {
   "cell_type": "markdown",
   "metadata": {},
   "source": [
    "<i>The intercept and the coefficient are worse than the ones we found out, when we had a standard gaussian noise! </i> <font color =\"red\"> Considering that our noise has $\\mu= 1$, it makes sense that the intercept value increases at least in this proportion.</font>"
   ]
  },
  {
   "cell_type": "markdown",
   "metadata": {},
   "source": [
    "<b>Measuring the quality of the model</b>"
   ]
  },
  {
   "cell_type": "code",
   "execution_count": 43,
   "metadata": {},
   "outputs": [
    {
     "name": "stdout",
     "output_type": "stream",
     "text": [
      "coefficient of determination: 0.35387348195274027\n"
     ]
    },
    {
     "data": {
      "image/png": "[encoded data removed]",
      "text/plain": [
       "<Figure size 432x288 with 1 Axes>"
      ]
     },
     "metadata": {
      "needs_background": "light"
     },
     "output_type": "display_data"
    },
    {
     "data": {
      "image/png": "[encoded data removed]",
      "text/plain": [
       "<Figure size 432x288 with 1 Axes>"
      ]
     },
     "metadata": {
      "needs_background": "light"
     },
     "output_type": "display_data"
    },
    {
     "name": "stdout",
     "output_type": "stream",
     "text": [
      "RMSE for simple linear regression:  1.9195063449554908\n"
     ]
    }
   ],
   "source": [
    "y_pred = model.predict(X)\n",
    "r_sq = model.score(X, y)\n",
    "print('coefficient of determination:', r_sq)\n",
    "error= y_pred-y\n",
    "plt.hist(error)\n",
    "plt.show()\n",
    "plt.plot(X,y_pred,color=\"orange\")\n",
    "plt.scatter(X,y)\n",
    "plt.show()\n",
    "\n",
    "from sklearn.metrics import mean_squared_error\n",
    "lin_mse = mean_squared_error(y, y_pred)\n",
    "print(\"RMSE for simple linear regression: \",str(np.sqrt(lin_mse)))"
   ]
  },
  {
   "cell_type": "markdown",
   "metadata": {},
   "source": [
    "<b><font color=\"red\">🚩Important:</font></b> In this scenario the assumption of the standard gaussian noise was not respected, so the quality of our estimator for intercept and for the coefficients decreased substantially, showing a great decrease on the coefficient of determination. And the mean squared error increases drastically."
   ]
  },
  {
   "cell_type": "markdown",
   "metadata": {},
   "source": [
    "<h4>I.c) Predicting </h4>"
   ]
  },
  {
   "cell_type": "code",
   "execution_count": 44,
   "metadata": {},
   "outputs": [
    {
     "data": {
      "text/plain": [
       "array([[ 5.22244517],\n",
       "       [11.53888775]])"
      ]
     },
     "execution_count": 44,
     "metadata": {},
     "output_type": "execute_result"
    }
   ],
   "source": [
    "X_new = np.array([[0], [2]])\n",
    "X_new_b = np.c_[np.ones((2, 1)), X_new] # add x0 = 1 to each instance\n",
    "y_predict = X_new_b.dot(theta_best)\n",
    "y_predict"
   ]
  },
  {
   "cell_type": "code",
   "execution_count": 45,
   "metadata": {},
   "outputs": [
    {
     "data": {
      "image/png": "[encoded data removed]",
      "text/plain": [
       "<Figure size 432x288 with 1 Axes>"
      ]
     },
     "metadata": {
      "needs_background": "light"
     },
     "output_type": "display_data"
    }
   ],
   "source": [
    "plt.plot(X_new, y_predict, \"r-\")\n",
    "plt.plot(X, y, \"b.\")\n",
    "plt.axis([0, 2, 0, 15])\n",
    "plt.show()"
   ]
  },
  {
   "cell_type": "code",
   "execution_count": 46,
   "metadata": {},
   "outputs": [
    {
     "data": {
      "text/plain": [
       "array([[4.38713125],\n",
       "       [9.74411478]])"
      ]
     },
     "execution_count": 46,
     "metadata": {},
     "output_type": "execute_result"
    }
   ],
   "source": [
    "lin_reg.predict(X_new)"
   ]
  },
  {
   "cell_type": "code",
   "execution_count": 47,
   "metadata": {},
   "outputs": [
    {
     "name": "stdout",
     "output_type": "stream",
     "text": [
      "The value predicted for 1.5 is:  [[8.4048689]] and the actual value is:  8.5\n"
     ]
    }
   ],
   "source": [
    "print(\"The value predicted for 1.5 is: \",model.predict([[1.5]]), \"and the actual value is: \", 4 + 3 * 1.5)"
   ]
  },
  {
   "cell_type": "markdown",
   "metadata": {},
   "source": [
    "🤔 <font color =\"blue\"> What should we do to improve the results? </font>"
   ]
  },
  {
   "cell_type": "markdown",
   "metadata": {},
   "source": [
    "<hr>********************************************************************************************************************************************************************<hr>"
   ]
  },
  {
   "cell_type": "markdown",
   "metadata": {},
   "source": [
    "<h3><font color = \"red\">Scenario IV: Noise is dependent</font></h3>\n",
    "<hr>"
   ]
  },
  {
   "cell_type": "code",
   "execution_count": 48,
   "metadata": {
    "scrolled": true
   },
   "outputs": [
    {
     "data": {
      "image/png": "[encoded data removed]",
      "text/plain": [
       "<Figure size 432x288 with 1 Axes>"
      ]
     },
     "metadata": {
      "needs_background": "light"
     },
     "output_type": "display_data"
    },
    {
     "name": "stdout",
     "output_type": "stream",
     "text": [
      "The noise that we added has the parameter 0 as intercept and coefficient 1\n"
     ]
    },
    {
     "data": {
      "image/png": "[encoded data removed]",
      "text/plain": [
       "<Figure size 432x288 with 1 Axes>"
      ]
     },
     "metadata": {
      "needs_background": "light"
     },
     "output_type": "display_data"
    }
   ],
   "source": [
    "import numpy as np\n",
    "import random\n",
    "import pandas as pd\n",
    "import matplotlib.pyplot as plt\n",
    "X = 2 * np.random.rand(100, 1)\n",
    "noise = np.arange(100)/100\n",
    "noise=np.reshape(noise,(100,1))\n",
    "y = 4 + 3 * X + noise\n",
    "plt.scatter(X,y)\n",
    "plt.show()\n",
    "\n",
    "print(\"The noise that we added has the parameter 0 as intercept and coefficient 1\")\n",
    "plt.plot(noise,noise)\n",
    "plt.show()"
   ]
  },
  {
   "cell_type": "markdown",
   "metadata": {},
   "source": [
    "<h5><b><font color = \"orange\">Solving using Scikit-learn</font></b></h5>\n",
    "Using the Linear Regression method from Scikit-learn"
   ]
  },
  {
   "cell_type": "code",
   "execution_count": 49,
   "metadata": {},
   "outputs": [
    {
     "data": {
      "text/html": [
       "<div>\n",
       "<style scoped>\n",
       "    .dataframe tbody tr th:only-of-type {\n",
       "        vertical-align: middle;\n",
       "    }\n",
       "\n",
       "    .dataframe tbody tr th {\n",
       "        vertical-align: top;\n",
       "    }\n",
       "\n",
       "    .dataframe thead th {\n",
       "        text-align: right;\n",
       "    }\n",
       "</style>\n",
       "<table border=\"1\" class=\"dataframe\">\n",
       "  <thead>\n",
       "    <tr style=\"text-align: right;\">\n",
       "      <th></th>\n",
       "      <th>Value</th>\n",
       "    </tr>\n",
       "  </thead>\n",
       "  <tbody>\n",
       "    <tr>\n",
       "      <th>intercept</th>\n",
       "      <td>4.53857</td>\n",
       "    </tr>\n",
       "    <tr>\n",
       "      <th>coefficient</th>\n",
       "      <td>[2.9566229981336978]</td>\n",
       "    </tr>\n",
       "  </tbody>\n",
       "</table>\n",
       "</div>"
      ],
      "text/plain": [
       "                            Value\n",
       "intercept                 4.53857\n",
       "coefficient  [2.9566229981336978]"
      ]
     },
     "execution_count": 49,
     "metadata": {},
     "output_type": "execute_result"
    }
   ],
   "source": [
    "from sklearn.linear_model import LinearRegression\n",
    "lin_reg = LinearRegression()\n",
    "model=lin_reg.fit(X, y)\n",
    "pd.DataFrame([lin_reg.intercept_, lin_reg.coef_], ['intercept','coefficient'], columns=[\"Value\"])"
   ]
  },
  {
   "cell_type": "markdown",
   "metadata": {},
   "source": [
    "<font color = \"red\">The value that we obtained did not change the obtained did not impact on the slope, because we choose a 45 degree equation as noise, but as we have slope 1 and we are dealing with a normal distribution the y value increased in a proportion equivalent to approximately 50% of the slope. </font>\n",
    "\n",
    "<b>Measuring the quality of the model</b>"
   ]
  },
  {
   "cell_type": "code",
   "execution_count": 50,
   "metadata": {},
   "outputs": [
    {
     "name": "stdout",
     "output_type": "stream",
     "text": [
      "coefficient of determination: 0.9760349037607348\n"
     ]
    },
    {
     "data": {
      "image/png": "[encoded data removed]",
      "text/plain": [
       "<Figure size 432x288 with 1 Axes>"
      ]
     },
     "metadata": {
      "needs_background": "light"
     },
     "output_type": "display_data"
    },
    {
     "data": {
      "image/png": "[encoded data removed]",
      "text/plain": [
       "<Figure size 432x288 with 1 Axes>"
      ]
     },
     "metadata": {
      "needs_background": "light"
     },
     "output_type": "display_data"
    },
    {
     "name": "stdout",
     "output_type": "stream",
     "text": [
      "RMSE for simple linear regression:  0.28740372426402205\n"
     ]
    }
   ],
   "source": [
    "y_pred = model.predict(X)\n",
    "r_sq = model.score(X, y)\n",
    "print('coefficient of determination:', r_sq)\n",
    "error= y_pred-y\n",
    "plt.hist(error,bins=10)\n",
    "plt.show()\n",
    "plt.plot(X,y_pred,color=\"orange\")\n",
    "plt.scatter(X,y)\n",
    "plt.show()\n",
    "\n",
    "from sklearn.metrics import mean_squared_error\n",
    "lin_mse = mean_squared_error(y, y_pred)\n",
    "print(\"RMSE for simple linear regression: \",str(np.sqrt(lin_mse)))"
   ]
  },
  {
   "cell_type": "code",
   "execution_count": 51,
   "metadata": {},
   "outputs": [
    {
     "name": "stdout",
     "output_type": "stream",
     "text": [
      "The value predicted for 1.5 is:  [[8.97350633]] and the actual value is:  8.5\n"
     ]
    }
   ],
   "source": [
    "print(\"The value predicted for 1.5 is: \",model.predict([[1.5]]), \"and the actual value is: \", 4 + 3 * 1.5)"
   ]
  },
  {
   "cell_type": "markdown",
   "metadata": {},
   "source": [
    "<h3><font color = \"orange\">Scenario V: Heteroscedascity </font></h3>\n",
    "<hr>\n",
    "<h4>I.a) Building a Dataset </h4>"
   ]
  },
  {
   "cell_type": "code",
   "execution_count": 11,
   "metadata": {
    "scrolled": true
   },
   "outputs": [
    {
     "data": {
      "image/png": "[encoded data removed]",
      "text/plain": [
       "<Figure size 432x288 with 1 Axes>"
      ]
     },
     "metadata": {
      "needs_background": "light"
     },
     "output_type": "display_data"
    },
    {
     "name": "stdout",
     "output_type": "stream",
     "text": [
      "mean: -0.3510838998250601\n",
      "variance: 3.5348197272959627\n"
     ]
    }
   ],
   "source": [
    "import numpy as np\n",
    "import matplotlib.pyplot as plt\n",
    "import pandas as pd\n",
    "\n",
    "X = 2 * np.random.rand(100, 1)\n",
    "\n",
    "sigma2 = X**4\n",
    "sd_ = np.sqrt(sigma2)\n",
    "noise = np.random.normal(loc=0, scale=sd_)\n",
    "np.random.randn()\n",
    "plt.axvline(x=0, color = \"blue\")\n",
    "plt.hist(x=noise, bins='auto', color='orange')\n",
    "plt.title(\"Noise distribution\")\n",
    "plt.show()\n",
    "print(\"mean: \"+str(np.mean(noise)))\n",
    "print(\"variance: \" +str(np.var(noise)))"
   ]
  },
  {
   "cell_type": "code",
   "execution_count": 12,
   "metadata": {},
   "outputs": [
    {
     "data": {
      "image/png": "[encoded data removed]",
      "text/plain": [
       "<Figure size 432x288 with 1 Axes>"
      ]
     },
     "metadata": {
      "needs_background": "light"
     },
     "output_type": "display_data"
    }
   ],
   "source": [
    "y = 4 + 3 * X + noise\n",
    "plt.scatter(X,y)\n",
    "plt.show()"
   ]
  },
  {
   "cell_type": "markdown",
   "metadata": {},
   "source": [
    "<h5><b><font color = \"orange\">Solving the minimization problem:</font></b></h5>"
   ]
  },
  {
   "cell_type": "code",
   "execution_count": 13,
   "metadata": {},
   "outputs": [
    {
     "data": {
      "text/html": [
       "<div>\n",
       "<style scoped>\n",
       "    .dataframe tbody tr th:only-of-type {\n",
       "        vertical-align: middle;\n",
       "    }\n",
       "\n",
       "    .dataframe tbody tr th {\n",
       "        vertical-align: top;\n",
       "    }\n",
       "\n",
       "    .dataframe thead th {\n",
       "        text-align: right;\n",
       "    }\n",
       "</style>\n",
       "<table border=\"1\" class=\"dataframe\">\n",
       "  <thead>\n",
       "    <tr style=\"text-align: right;\">\n",
       "      <th></th>\n",
       "      <th>Value</th>\n",
       "    </tr>\n",
       "  </thead>\n",
       "  <tbody>\n",
       "    <tr>\n",
       "      <th>intercept</th>\n",
       "      <td>4.497678</td>\n",
       "    </tr>\n",
       "    <tr>\n",
       "      <th>coefficient</th>\n",
       "      <td>2.118618</td>\n",
       "    </tr>\n",
       "  </tbody>\n",
       "</table>\n",
       "</div>"
      ],
      "text/plain": [
       "                Value\n",
       "intercept    4.497678\n",
       "coefficient  2.118618"
      ]
     },
     "execution_count": 13,
     "metadata": {},
     "output_type": "execute_result"
    }
   ],
   "source": [
    "X_b = np.c_[np.ones((100, 1)), X] # add x0 = 1 to each instance\n",
    "theta_best = np.linalg.inv(X_b.T.dot(X_b)).dot(X_b.T).dot(y)\n",
    "\n",
    "pd.DataFrame(theta_best, ['intercept','coefficient'], columns=[\"Value\"])"
   ]
  },
  {
   "cell_type": "markdown",
   "metadata": {},
   "source": [
    "<i>The intercept and the coefficient are worse than the ones we found out, when we had a standard gaussian noise!  </i> <font color =\"red\"> Considering that our noise has  𝜇=1 , it makes sense that the intercept value increases at least in this proportion.</font>\n",
    "\n",
    "<div class=\"alert alert-block alert-danger\">\n",
    "<b>Just don't:</b> In general, avoid the red boxes. These should only be\n",
    "used for actions that might cause data loss or another major issue.\n",
    "</div>"
   ]
  },
  {
   "cell_type": "markdown",
   "metadata": {},
   "source": [
    "<b>Measuring the quality of the model</b>"
   ]
  },
  {
   "cell_type": "code",
   "execution_count": 7,
   "metadata": {},
   "outputs": [
    {
     "ename": "NameError",
     "evalue": "name 'model' is not defined",
     "output_type": "error",
     "traceback": [
      "\u001b[1;31m---------------------------------------------------------------------------\u001b[0m",
      "\u001b[1;31mNameError\u001b[0m                                 Traceback (most recent call last)",
      "\u001b[1;32m<ipython-input-7-a9bdf8d8d146>\u001b[0m in \u001b[0;36m<module>\u001b[1;34m\u001b[0m\n\u001b[1;32m----> 1\u001b[1;33m \u001b[0my_pred\u001b[0m \u001b[1;33m=\u001b[0m \u001b[0mmodel\u001b[0m\u001b[1;33m.\u001b[0m\u001b[0mpredict\u001b[0m\u001b[1;33m(\u001b[0m\u001b[0mX\u001b[0m\u001b[1;33m)\u001b[0m\u001b[1;33m\u001b[0m\u001b[1;33m\u001b[0m\u001b[0m\n\u001b[0m\u001b[0;32m      2\u001b[0m \u001b[0mr_sq\u001b[0m \u001b[1;33m=\u001b[0m \u001b[0mmodel\u001b[0m\u001b[1;33m.\u001b[0m\u001b[0mscore\u001b[0m\u001b[1;33m(\u001b[0m\u001b[0mX\u001b[0m\u001b[1;33m,\u001b[0m \u001b[0my\u001b[0m\u001b[1;33m)\u001b[0m\u001b[1;33m\u001b[0m\u001b[1;33m\u001b[0m\u001b[0m\n\u001b[0;32m      3\u001b[0m \u001b[0mprint\u001b[0m\u001b[1;33m(\u001b[0m\u001b[1;34m'coefficient of determination:'\u001b[0m\u001b[1;33m,\u001b[0m \u001b[0mr_sq\u001b[0m\u001b[1;33m)\u001b[0m\u001b[1;33m\u001b[0m\u001b[1;33m\u001b[0m\u001b[0m\n\u001b[0;32m      4\u001b[0m \u001b[0merror\u001b[0m\u001b[1;33m=\u001b[0m \u001b[0my_pred\u001b[0m\u001b[1;33m-\u001b[0m\u001b[0my\u001b[0m\u001b[1;33m\u001b[0m\u001b[1;33m\u001b[0m\u001b[0m\n\u001b[0;32m      5\u001b[0m \u001b[0mplt\u001b[0m\u001b[1;33m.\u001b[0m\u001b[0mhist\u001b[0m\u001b[1;33m(\u001b[0m\u001b[0merror\u001b[0m\u001b[1;33m)\u001b[0m\u001b[1;33m\u001b[0m\u001b[1;33m\u001b[0m\u001b[0m\n",
      "\u001b[1;31mNameError\u001b[0m: name 'model' is not defined"
     ]
    }
   ],
   "source": [
    "y_pred = model.predict(X)\n",
    "r_sq = model.score(X, y)\n",
    "print('coefficient of determination:', r_sq)\n",
    "error= y_pred-y\n",
    "plt.hist(error)\n",
    "plt.show()\n",
    "plt.plot(X,y_pred,color=\"orange\")\n",
    "plt.scatter(X,y)\n",
    "plt.show()\n",
    "\n",
    "from sklearn.metrics import mean_squared_error\n",
    "lin_mse = mean_squared_error(y, y_pred)\n",
    "print(\"RMSE for simple linear regression: \",str(np.sqrt(lin_mse)))"
   ]
  },
  {
   "cell_type": "markdown",
   "metadata": {},
   "source": [
    "<b><font color=\"red\">🚩Important:</font></b> In this scenario the assumption of the standard gaussian noise was not respected, so the quality of our estimator for intercept and for the coefficients decreased substantially, showing a great decrease on the coefficient of determination. And the mean squared error increases drastically."
   ]
  },
  {
   "cell_type": "markdown",
   "metadata": {},
   "source": [
    "<h4>I.c) Predicting </h4>"
   ]
  },
  {
   "cell_type": "code",
   "execution_count": 75,
   "metadata": {},
   "outputs": [
    {
     "data": {
      "text/plain": [
       "array([[4.19097405],\n",
       "       [9.80302588]])"
      ]
     },
     "execution_count": 75,
     "metadata": {},
     "output_type": "execute_result"
    }
   ],
   "source": [
    "X_new = np.array([[0], [2]])\n",
    "X_new_b = np.c_[np.ones((2, 1)), X_new] # add x0 = 1 to each instance\n",
    "y_predict = X_new_b.dot(theta_best)\n",
    "y_predict"
   ]
  },
  {
   "cell_type": "code",
   "execution_count": 76,
   "metadata": {},
   "outputs": [
    {
     "data": {
      "image/png": "[encoded data removed]",
      "text/plain": [
       "<Figure size 432x288 with 1 Axes>"
      ]
     },
     "metadata": {
      "needs_background": "light"
     },
     "output_type": "display_data"
    }
   ],
   "source": [
    "plt.plot(X_new, y_predict, \"r-\")\n",
    "plt.plot(X, y, \"b.\")\n",
    "plt.axis([0, 2, 0, 15])\n",
    "plt.show()"
   ]
  },
  {
   "cell_type": "code",
   "execution_count": 77,
   "metadata": {},
   "outputs": [
    {
     "data": {
      "text/plain": [
       "array([[ 4.53857183],\n",
       "       [10.45181783]])"
      ]
     },
     "execution_count": 77,
     "metadata": {},
     "output_type": "execute_result"
    }
   ],
   "source": [
    "lin_reg.predict(X_new)"
   ]
  },
  {
   "cell_type": "code",
   "execution_count": 78,
   "metadata": {},
   "outputs": [
    {
     "name": "stdout",
     "output_type": "stream",
     "text": [
      "The value predicted for 1.5 is:  [[8.97350633]] and the actual value is:  8.5\n"
     ]
    }
   ],
   "source": [
    "print(\"The value predicted for 1.5 is: \",model.predict([[1.5]]), \"and the actual value is: \", 4 + 3 * 1.5)"
   ]
  },
  {
   "cell_type": "code",
   "execution_count": null,
   "metadata": {},
   "outputs": [],
   "source": []
  }
 ],
 "metadata": {
  "kernelspec": {
   "display_name": "Python 3",
   "language": "python",
   "name": "python3"
  },
  "language_info": {
   "codemirror_mode": {
    "name": "ipython",
    "version": 3
   },
   "file_extension": ".py",
   "mimetype": "text/x-python",
   "name": "python",
   "nbconvert_exporter": "python",
   "pygments_lexer": "ipython3",
   "version": "3.6.9"
  }
 },
 "nbformat": 4,
 "nbformat_minor": 2
}
